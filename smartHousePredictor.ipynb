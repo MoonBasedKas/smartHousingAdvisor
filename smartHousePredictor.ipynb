{
 "cells": [
  {
   "cell_type": "markdown",
   "id": "f34476a1-7199-4820-a0b5-9f9fae8a6e19",
   "metadata": {},
   "source": [
    "# Smart Housing Advisor\n",
    "Tri Blankley and Kassidy Maberry\n",
    "\n",
    "2025/05/06\n",
    "\n",
    "Data provided by Redfin, a national real estate brokerage.\n",
    "\n",
    "Link: https://www.redfin.com/news/data-center"
   ]
  },
  {
   "cell_type": "code",
   "execution_count": 4,
   "id": "71ba6a4d-3273-431e-a69c-c79e7872606d",
   "metadata": {},
   "outputs": [],
   "source": [
    "import pandas as pd\n",
    "import matplotlib as mlp\n",
    "import seaborn as sb\n",
    "# Import plotly\n",
    "\n",
    "\"\"\"\n",
    "Loads plot data.\n",
    "\"\"\"\n",
    "def load_data():\n",
    "    d = pd.read_csv(\"city_market_tracker.tsv000\", sep=\"\\t\")\n",
    "    # TODO: Convert dates into datatime.\n",
    "    return d\n",
    "\n",
    "data = load_data()\n",
    "print(\"Data has loaded\")"
   ]
  },
  {
   "cell_type": "code",
   "execution_count": 9,
   "id": "7e06f458-7488-42d3-bd18-473315ae6f5d",
   "metadata": {},
   "outputs": [
    {
     "name": "stdout",
     "output_type": "stream",
     "text": [
      "Index(['PERIOD_BEGIN', 'PERIOD_END', 'PERIOD_DURATION', 'REGION_TYPE',\n",
      "       'REGION_TYPE_ID', 'TABLE_ID', 'IS_SEASONALLY_ADJUSTED', 'REGION',\n",
      "       'CITY', 'STATE', 'STATE_CODE', 'PROPERTY_TYPE', 'PROPERTY_TYPE_ID',\n",
      "       'MEDIAN_SALE_PRICE', 'MEDIAN_SALE_PRICE_MOM', 'MEDIAN_SALE_PRICE_YOY',\n",
      "       'MEDIAN_LIST_PRICE', 'MEDIAN_LIST_PRICE_MOM', 'MEDIAN_LIST_PRICE_YOY',\n",
      "       'MEDIAN_PPSF', 'MEDIAN_PPSF_MOM', 'MEDIAN_PPSF_YOY', 'MEDIAN_LIST_PPSF',\n",
      "       'MEDIAN_LIST_PPSF_MOM', 'MEDIAN_LIST_PPSF_YOY', 'HOMES_SOLD',\n",
      "       'HOMES_SOLD_MOM', 'HOMES_SOLD_YOY', 'PENDING_SALES',\n",
      "       'PENDING_SALES_MOM', 'PENDING_SALES_YOY', 'NEW_LISTINGS',\n",
      "       'NEW_LISTINGS_MOM', 'NEW_LISTINGS_YOY', 'INVENTORY', 'INVENTORY_MOM',\n",
      "       'INVENTORY_YOY', 'MONTHS_OF_SUPPLY', 'MONTHS_OF_SUPPLY_MOM',\n",
      "       'MONTHS_OF_SUPPLY_YOY', 'MEDIAN_DOM', 'MEDIAN_DOM_MOM',\n",
      "       'MEDIAN_DOM_YOY', 'AVG_SALE_TO_LIST', 'AVG_SALE_TO_LIST_MOM',\n",
      "       'AVG_SALE_TO_LIST_YOY', 'SOLD_ABOVE_LIST', 'SOLD_ABOVE_LIST_MOM',\n",
      "       'SOLD_ABOVE_LIST_YOY', 'PRICE_DROPS', 'PRICE_DROPS_MOM',\n",
      "       'PRICE_DROPS_YOY', 'OFF_MARKET_IN_TWO_WEEKS',\n",
      "       'OFF_MARKET_IN_TWO_WEEKS_MOM', 'OFF_MARKET_IN_TWO_WEEKS_YOY',\n",
      "       'PARENT_METRO_REGION', 'PARENT_METRO_REGION_METRO_CODE',\n",
      "       'LAST_UPDATED'],\n",
      "      dtype='object')\n"
     ]
    }
   ],
   "source": [
    "print(data.keys())"
   ]
  },
  {
   "cell_type": "markdown",
   "id": "3dc00e97-18ad-4227-9d2f-5e0624d59d67",
   "metadata": {},
   "source": [
    "# Task 1: User Input"
   ]
  },
  {
   "cell_type": "code",
   "execution_count": 1,
   "id": "cc19800f-eb08-402a-a62f-6bca418caa76",
   "metadata": {},
   "outputs": [
    {
     "name": "stdin",
     "output_type": "stream",
     "text": [
      "Enter your annual income:  100000\n",
      "Enter your down payment:  2000\n",
      "Enter your prefered city (optional):  a\n"
     ]
    }
   ],
   "source": [
    "income = float(input(\"Enter your annual income: \"))\n",
    "downPay = float(input(\"Enter your down payment: \"))\n",
    "prefered = input(\"Enter your prefered city (optional): \")"
   ]
  },
  {
   "cell_type": "markdown",
   "id": "a4116d9e-d343-4145-ba79-c62f7fa4409c",
   "metadata": {},
   "source": [
    "# Task 2: Affordability Estimation"
   ]
  },
  {
   "cell_type": "code",
   "execution_count": 11,
   "id": "bc529512-69b4-4382-8212-f7f700d77113",
   "metadata": {},
   "outputs": [
    {
     "name": "stdin",
     "output_type": "stream",
     "text": [
      "Enter a loan duration in months:  10\n"
     ]
    },
    {
     "name": "stdout",
     "output_type": "stream",
     "text": [
      "27000.0\n",
      "         MEDIAN_SALE_PRICE             CITY\n",
      "107                20000.0  Cedar Glen West\n",
      "108                19109.0       Hagerstown\n",
      "110                20000.0    Fairmont City\n",
      "133                20900.0    Crystal Lakes\n",
      "222                12500.0          Waverly\n",
      "...                    ...              ...\n",
      "5818185            18132.0     Moline Acres\n",
      "5818299            25900.0          Hubbell\n",
      "5818322            15000.0          Denison\n",
      "5818481             9387.5       Lindenwold\n",
      "5818656            18000.0     Sylvan Beach\n",
      "\n",
      "[83990 rows x 2 columns]\n"
     ]
    }
   ],
   "source": [
    "monthlyBudget = (income * .3)/12\n",
    "loanDur = int(input(\"Enter a loan duration in months: \"))\n",
    "houseBudget = downPay + monthlyBudget * loanDur\n",
    "out = data[data[\"MEDIAN_SALE_PRICE\"] <= houseBudget]\n",
    "out = out[[\"MEDIAN_SALE_PRICE\", \"CITY\"]]\n",
    "print(\"You can afford houses from the following cities.\")\n",
    "print(out)"
   ]
  },
  {
   "cell_type": "markdown",
   "id": "0686f9da-f2c9-4509-8986-c60255934150",
   "metadata": {},
   "source": [
    "# Task 3: Market Trend Analysis"
   ]
  },
  {
   "cell_type": "code",
   "execution_count": null,
   "id": "5224bb8b-00a0-448b-855b-317cecfa8e5d",
   "metadata": {},
   "outputs": [],
   "source": [
    "city = input(\"Enter your prefered city (optional): \")\n",
    "market = data[data[\"CITY\"] == city]\n",
    "# TODO: set up plots\n",
    "\n",
    "sb.scatterplot(market, x=\"PERIOD_BEGIN\", y=\"MEDIAN_SALE_PRICE\")\n",
    "# -----\n",
    "# TODO: merge\n",
    "sb.scatterplot(market, x=\"PERIOD_BEGIN\", y=\"INVENTORY\")\n",
    "sb.scatterplot(market, x=\"PERIOD_BEGIN\", y=\"NEW_LISTINGS\")\n",
    "# -----\n",
    "sb.scatterplot(market, x=\"PERIOD_BEGIN\", y=\"MEDIAN_DOM\")\n",
    "# -----\n",
    "sb.scatterplot(market, x=\"PERIOD_BEGIN\", y=\"PRICE_DROPS\")\n",
    "# -----\n",
    "sb.scatterplot(market, x=\"PERIOD_BEGIN\", y=\"AVG_SALE_TO_LIST\")\n",
    "# -----"
   ]
  },
  {
   "cell_type": "markdown",
   "id": "2cee0525-fe88-4993-8a60-d9a94a1be368",
   "metadata": {},
   "source": [
    "# Task 4: Generate Insights"
   ]
  },
  {
   "cell_type": "code",
   "execution_count": null,
   "id": "80cb5b36-7cc8-47f1-bed2-36724d6eb8fe",
   "metadata": {},
   "outputs": [],
   "source": [
    "print(\"Your estimated house budget is\", houseBudget)\n",
    "\n",
    "# List of cities matching this budget.\n",
    "\n",
    "# Where to buy and not buy."
   ]
  }
 ],
 "metadata": {
  "kernelspec": {
   "display_name": "Python 3 (ipykernel)",
   "language": "python",
   "name": "python3"
  },
  "language_info": {
   "codemirror_mode": {
    "name": "ipython",
    "version": 3
   },
   "file_extension": ".py",
   "mimetype": "text/x-python",
   "name": "python",
   "nbconvert_exporter": "python",
   "pygments_lexer": "ipython3",
   "version": "3.12.3"
  }
 },
 "nbformat": 4,
 "nbformat_minor": 5
}
