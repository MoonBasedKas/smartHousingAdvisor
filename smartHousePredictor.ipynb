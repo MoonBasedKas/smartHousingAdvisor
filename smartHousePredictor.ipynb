{
 "cells": [
  {
   "cell_type": "markdown",
   "id": "f34476a1-7199-4820-a0b5-9f9fae8a6e19",
   "metadata": {},
   "source": [
    "# Smart Housing Advisor\n",
    "Kassidy Maberry\n",
    "\n",
    "2025/05/06\n",
    "\n",
    "Data provided by Redfin, a national real estate brokerage.\n",
    "\n",
    "Link: https://www.redfin.com/news/data-center"
   ]
  },
  {
   "cell_type": "code",
   "execution_count": 2,
   "id": "71ba6a4d-3273-431e-a69c-c79e7872606d",
   "metadata": {},
   "outputs": [],
   "source": [
    "import pandas as pd\n",
    "import matplotlib as mlp\n",
    "import seaborn as sb\n",
    "# Import plotly\n",
    "\n",
    "\"\"\"\n",
    "Loads plot data.\n",
    "\"\"\"\n",
    "def load_data():\n",
    "    d = pd.read_csv(\"city_market_tracker.tsv000\", sep=\"\\t\")\n",
    "\n",
    "    return d\n",
    "\n",
    "data = load_data()"
   ]
  },
  {
   "cell_type": "code",
   "execution_count": 9,
   "id": "7e06f458-7488-42d3-bd18-473315ae6f5d",
   "metadata": {},
   "outputs": [
    {
     "name": "stdout",
     "output_type": "stream",
     "text": [
      "Index(['PERIOD_BEGIN', 'PERIOD_END', 'PERIOD_DURATION', 'REGION_TYPE',\n",
      "       'REGION_TYPE_ID', 'TABLE_ID', 'IS_SEASONALLY_ADJUSTED', 'REGION',\n",
      "       'CITY', 'STATE', 'STATE_CODE', 'PROPERTY_TYPE', 'PROPERTY_TYPE_ID',\n",
      "       'MEDIAN_SALE_PRICE', 'MEDIAN_SALE_PRICE_MOM', 'MEDIAN_SALE_PRICE_YOY',\n",
      "       'MEDIAN_LIST_PRICE', 'MEDIAN_LIST_PRICE_MOM', 'MEDIAN_LIST_PRICE_YOY',\n",
      "       'MEDIAN_PPSF', 'MEDIAN_PPSF_MOM', 'MEDIAN_PPSF_YOY', 'MEDIAN_LIST_PPSF',\n",
      "       'MEDIAN_LIST_PPSF_MOM', 'MEDIAN_LIST_PPSF_YOY', 'HOMES_SOLD',\n",
      "       'HOMES_SOLD_MOM', 'HOMES_SOLD_YOY', 'PENDING_SALES',\n",
      "       'PENDING_SALES_MOM', 'PENDING_SALES_YOY', 'NEW_LISTINGS',\n",
      "       'NEW_LISTINGS_MOM', 'NEW_LISTINGS_YOY', 'INVENTORY', 'INVENTORY_MOM',\n",
      "       'INVENTORY_YOY', 'MONTHS_OF_SUPPLY', 'MONTHS_OF_SUPPLY_MOM',\n",
      "       'MONTHS_OF_SUPPLY_YOY', 'MEDIAN_DOM', 'MEDIAN_DOM_MOM',\n",
      "       'MEDIAN_DOM_YOY', 'AVG_SALE_TO_LIST', 'AVG_SALE_TO_LIST_MOM',\n",
      "       'AVG_SALE_TO_LIST_YOY', 'SOLD_ABOVE_LIST', 'SOLD_ABOVE_LIST_MOM',\n",
      "       'SOLD_ABOVE_LIST_YOY', 'PRICE_DROPS', 'PRICE_DROPS_MOM',\n",
      "       'PRICE_DROPS_YOY', 'OFF_MARKET_IN_TWO_WEEKS',\n",
      "       'OFF_MARKET_IN_TWO_WEEKS_MOM', 'OFF_MARKET_IN_TWO_WEEKS_YOY',\n",
      "       'PARENT_METRO_REGION', 'PARENT_METRO_REGION_METRO_CODE',\n",
      "       'LAST_UPDATED'],\n",
      "      dtype='object')\n"
     ]
    }
   ],
   "source": [
    "print(data.keys())"
   ]
  },
  {
   "cell_type": "code",
   "execution_count": 20,
   "id": "0e9e208e-4649-46cf-a77f-4a5c0aa32d06",
   "metadata": {},
   "outputs": [
    {
     "name": "stdout",
     "output_type": "stream",
     "text": [
      "0          NC\n",
      "1          IL\n",
      "2          NC\n",
      "3          WA\n",
      "4          IL\n",
      "           ..\n",
      "5818726    MA\n",
      "5818727    MT\n",
      "5818728    NY\n",
      "5818729    MI\n",
      "5818730    MA\n",
      "Name: STATE_CODE, Length: 5818731, dtype: object\n"
     ]
    }
   ],
   "source": [
    "# Convert periods to datetime.\n",
    "# Convert homes_sold to int.\n",
    "print(data[\"STATE_CODE\"])"
   ]
  }
 ],
 "metadata": {
  "kernelspec": {
   "display_name": "Python 3 (ipykernel)",
   "language": "python",
   "name": "python3"
  },
  "language_info": {
   "codemirror_mode": {
    "name": "ipython",
    "version": 3
   },
   "file_extension": ".py",
   "mimetype": "text/x-python",
   "name": "python",
   "nbconvert_exporter": "python",
   "pygments_lexer": "ipython3",
   "version": "3.12.3"
  }
 },
 "nbformat": 4,
 "nbformat_minor": 5
}
